{
  "nbformat": 4,
  "nbformat_minor": 0,
  "metadata": {
    "colab": {
      "provenance": []
    },
    "kernelspec": {
      "name": "python3",
      "display_name": "Python 3"
    },
    "language_info": {
      "name": "python"
    }
  },
  "cells": [
    {
      "cell_type": "code",
      "source": [
        "num1 = float(input(\"Enter first number: \"))  # Get input for num1\n",
        "num2 = float(input(\"Enter second number: \")) # Get input for num2\n",
        "num3 = float(input(\"Enter third number: \")) # Get input for num3\n",
        "\n",
        "if num1 >= num2 and num1 >= num3:\n",
        "    print(\"Largest number is:\", num1)\n",
        "elif num2 >= num1 and num2 >= num3:\n",
        "    print(\"Largest number is:\", num2)\n",
        "else:\n",
        "    print(\"Largest number is:\", num3)"
      ],
      "metadata": {
        "colab": {
          "base_uri": "https://localhost:8080/"
        },
        "id": "DR54L3IL5rnp",
        "outputId": "3bfe99de-a243-4d74-ca79-eb0998ded21e"
      },
      "execution_count": 38,
      "outputs": [
        {
          "output_type": "stream",
          "name": "stdout",
          "text": [
            "Enter first number: 22\n",
            "Enter second number: 32\n",
            "Enter third number: 24\n",
            "Largest number is: 32.0\n"
          ]
        }
      ]
    }
  ]
}