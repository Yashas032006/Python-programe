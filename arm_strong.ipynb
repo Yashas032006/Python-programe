{
  "nbformat": 4,
  "nbformat_minor": 0,
  "metadata": {
    "colab": {
      "provenance": []
    },
    "kernelspec": {
      "name": "python3",
      "display_name": "Python 3"
    },
    "language_info": {
      "name": "python"
    }
  },
  "cells": [
    {
      "cell_type": "code",
      "source": [
        "def is_armstrong(number):\n",
        "  digits = str(number)\n",
        "  num_digits = len(digits)\n",
        "  total = sum(int(digit)**num_digits for digit in digits)\n",
        "\n",
        "  return total == number\n",
        "\n",
        "number = int(input(\"Enter a number: \"))\n",
        "\n",
        "if is_armstrong(number):\n",
        "  print(f\"{number} is an Armstrong number.\")\n",
        "else:\n",
        "  print(f\"{number} is not an Armstrong number.\")"
      ],
      "metadata": {
        "colab": {
          "base_uri": "https://localhost:8080/"
        },
        "id": "33Afy_alJelB",
        "outputId": "e9ae00a4-6a8e-4f2f-fb29-79df0a2859a0"
      },
      "execution_count": 16,
      "outputs": [
        {
          "output_type": "stream",
          "name": "stdout",
          "text": [
            "Enter a number: 370\n",
            "370 is an Armstrong number.\n"
          ]
        }
      ]
    }
  ]
}