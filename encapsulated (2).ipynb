{
  "nbformat": 4,
  "nbformat_minor": 0,
  "metadata": {
    "colab": {
      "provenance": []
    },
    "kernelspec": {
      "name": "python3",
      "display_name": "Python 3"
    },
    "language_info": {
      "name": "python"
    }
  },
  "cells": [
    {
      "cell_type": "code",
      "source": [
        "class Person:\n",
        "    def __init__(self, name, age):\n",
        "        self.name = name\n",
        "        self.age = age\n",
        "\n",
        "    def __str__(self):\n",
        "\n",
        "        return f\"Person: {self.name}, Age: {self.age}\"\n",
        "\n",
        "    def __repr__(self):\n",
        "\n",
        "        return f\"Person('{self.name}', {self.age})\"\n",
        "\n",
        "p = Person(\"John\", 30)\n",
        "\n",
        "print(str(p))\n",
        "print(p)\n",
        "\n",
        "print(repr(p))\n"
      ],
      "metadata": {
        "colab": {
          "base_uri": "https://localhost:8080/"
        },
        "id": "-_saGeFwFStv",
        "outputId": "6caad029-ff80-4f4a-bcd8-4491ced0e3bd"
      },
      "execution_count": 71,
      "outputs": [
        {
          "output_type": "stream",
          "name": "stdout",
          "text": [
            "Person: John, Age: 30\n",
            "Person: John, Age: 30\n",
            "Person('John', 30)\n"
          ]
        }
      ]
    }
  ]
}