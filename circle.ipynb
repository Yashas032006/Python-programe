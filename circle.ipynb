{
  "nbformat": 4,
  "nbformat_minor": 0,
  "metadata": {
    "colab": {
      "provenance": []
    },
    "kernelspec": {
      "name": "python3",
      "display_name": "Python 3"
    },
    "language_info": {
      "name": "python"
    }
  },
  "cells": [
    {
      "cell_type": "code",
      "source": [
        "r=float(input(\"enter radius of circle \"))\n",
        "area=3.14*r*r\n",
        "print(\"area of cricle\",area)"
      ],
      "metadata": {
        "colab": {
          "base_uri": "https://localhost:8080/"
        },
        "id": "gYP82bDCaKD0",
        "outputId": "a06ab781-c07e-4dbd-f5ca-3ab8bbad06d5"
      },
      "execution_count": 12,
      "outputs": [
        {
          "output_type": "stream",
          "name": "stdout",
          "text": [
            "enter radius of circle 3\n",
            "area of cricle 28.259999999999998\n"
          ]
        }
      ]
    }
  ]
}