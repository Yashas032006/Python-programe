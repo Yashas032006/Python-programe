{
  "nbformat": 4,
  "nbformat_minor": 0,
  "metadata": {
    "colab": {
      "provenance": []
    },
    "kernelspec": {
      "name": "python3",
      "display_name": "Python 3"
    },
    "language_info": {
      "name": "python"
    }
  },
  "cells": [
    {
      "cell_type": "code",
      "source": [
        "def list_sum(numbers):\n",
        "    return sum(numbers)\n",
        "nums = [1, 2, 3, 4, 5]\n",
        "print(list_sum(nums))\n"
      ],
      "metadata": {
        "id": "ZpdElnypJ5tJ",
        "outputId": "4ff848e6-1f8a-4738-ac9e-0795479edd1a",
        "colab": {
          "base_uri": "https://localhost:8080/"
        }
      },
      "execution_count": 3,
      "outputs": [
        {
          "output_type": "stream",
          "name": "stdout",
          "text": [
            "15\n"
          ]
        }
      ]
    }
  ]
}