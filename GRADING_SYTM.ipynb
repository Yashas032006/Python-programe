{
  "nbformat": 4,
  "nbformat_minor": 0,
  "metadata": {
    "colab": {
      "provenance": []
    },
    "kernelspec": {
      "name": "python3",
      "display_name": "Python 3"
    },
    "language_info": {
      "name": "python"
    }
  },
  "cells": [
    {
      "cell_type": "code",
      "source": [
        "marks=int(input(\"enter the students marks\"))\n",
        "if marks>=90:\n",
        "  print(\"A grade\")\n",
        "elif marks>=80:\n",
        "    print(\"B grade\")\n",
        "elif marks>=70:\n",
        "    print(\"C grade\")\n",
        "elif marks>=60:\n",
        "    print(\"D grade\")"
      ],
      "metadata": {
        "colab": {
          "base_uri": "https://localhost:8080/"
        },
        "id": "sXwtAuiwrj9Y",
        "outputId": "40ddb7da-46c2-4c09-cd76-2610dd776803"
      },
      "execution_count": 50,
      "outputs": [
        {
          "name": "stdout",
          "output_type": "stream",
          "text": [
            "enter the students marks20\n"
          ]
        }
      ]
    }
  ]
}