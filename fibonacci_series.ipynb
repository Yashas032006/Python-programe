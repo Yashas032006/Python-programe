{
  "nbformat": 4,
  "nbformat_minor": 0,
  "metadata": {
    "colab": {
      "provenance": []
    },
    "kernelspec": {
      "name": "python3",
      "display_name": "Python 3"
    },
    "language_info": {
      "name": "python"
    }
  },
  "cells": [
    {
      "cell_type": "code",
      "source": [
        "num=int(input(\"enter the number of terms\"))\n",
        "a,b = 0,1\n",
        "for i in range(num):\n",
        "  print(a,end=\"\")\n",
        "  a,b = b,a+b"
      ],
      "metadata": {
        "colab": {
          "base_uri": "https://localhost:8080/"
        },
        "id": "EJN2iLaBpEdM",
        "outputId": "11268dc8-6f37-4245-ffdb-2615c47a337d"
      },
      "execution_count": 23,
      "outputs": [
        {
          "output_type": "stream",
          "name": "stdout",
          "text": [
            "enter the number of terms5\n",
            "01123"
          ]
        }
      ]
    }
  ]
}