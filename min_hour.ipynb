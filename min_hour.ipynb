{
  "nbformat": 4,
  "nbformat_minor": 0,
  "metadata": {
    "colab": {
      "provenance": []
    },
    "kernelspec": {
      "name": "python3",
      "display_name": "Python 3"
    },
    "language_info": {
      "name": "python"
    }
  },
  "cells": [
    {
      "cell_type": "code",
      "source": [
        "min=int(input(\"enter the time in min\"))\n",
        "hour=min//60\n",
        "remainingminutes=min%60\n",
        "print(hour)\n",
        "print(remainingminutes)\n"
      ],
      "metadata": {
        "colab": {
          "base_uri": "https://localhost:8080/"
        },
        "id": "G2y7zjWSmv3t",
        "outputId": "76f83c03-0d57-42e8-f3b4-98a0c516de29"
      },
      "execution_count": 21,
      "outputs": [
        {
          "output_type": "stream",
          "name": "stdout",
          "text": [
            "enter the time in min60\n",
            "1\n",
            "0\n"
          ]
        }
      ]
    }
  ]
}