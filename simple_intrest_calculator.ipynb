{
  "nbformat": 4,
  "nbformat_minor": 0,
  "metadata": {
    "colab": {
      "provenance": []
    },
    "kernelspec": {
      "name": "python3",
      "display_name": "Python 3"
    },
    "language_info": {
      "name": "python"
    }
  },
  "cells": [
    {
      "cell_type": "code",
      "source": [
        "principle=float(input(\"enter the principle amount:\"))\n",
        "rate=float(input(\"enter the rate:\"))\n",
        "time=float(input(\"enter the time:\"))\n",
        "si=(principle*rate*time)/100\n",
        "print(\"the simple intrest is:\",si)"
      ],
      "metadata": {
        "colab": {
          "base_uri": "https://localhost:8080/"
        },
        "id": "H6OvgnMUgi_I",
        "outputId": "c9081c96-654d-4a48-878a-16efbcd8ac24"
      },
      "execution_count": 19,
      "outputs": [
        {
          "output_type": "stream",
          "name": "stdout",
          "text": [
            "enter the principle amount:6000\n",
            "enter the rate:7000\n",
            "enter the time:8\n",
            "the simple intrest is: 3360000.0\n"
          ]
        }
      ]
    }
  ]
}