{
  "nbformat": 4,
  "nbformat_minor": 0,
  "metadata": {
    "colab": {
      "provenance": []
    },
    "kernelspec": {
      "name": "python3",
      "display_name": "Python 3"
    },
    "language_info": {
      "name": "python"
    }
  },
  "cells": [
    {
      "cell_type": "code",
      "source": [
        "def factorial(n):\n",
        "  if n == 0 or n == 1:\n",
        "    return 1\n",
        "  else:\n",
        "    return n * factorial(n - 1)\n",
        "num = int(input(\"Enter a number\"))\n",
        "result = factorial(num)\n",
        "print(f\"The factorial of {num} is {result}\")"
      ],
      "metadata": {
        "colab": {
          "base_uri": "https://localhost:8080/"
        },
        "id": "wRVxaP19BAl3",
        "outputId": "89febfad-f468-450d-f5da-a1bb89a19c2a"
      },
      "execution_count": 7,
      "outputs": [
        {
          "output_type": "stream",
          "name": "stdout",
          "text": [
            "Enter a number4\n",
            "The factorial of 4 is 24\n"
          ]
        }
      ]
    }
  ]
}