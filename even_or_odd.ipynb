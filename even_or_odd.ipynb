{
  "nbformat": 4,
  "nbformat_minor": 0,
  "metadata": {
    "colab": {
      "provenance": []
    },
    "kernelspec": {
      "name": "python3",
      "display_name": "Python 3"
    },
    "language_info": {
      "name": "python"
    }
  },
  "cells": [
    {
      "cell_type": "code",
      "execution_count": 4,
      "metadata": {
        "colab": {
          "base_uri": "https://localhost:8080/"
        },
        "id": "XXO5nO_HUirA",
        "outputId": "0587d4b8-c102-454c-a783-5b7aff41c8df"
      },
      "outputs": [
        {
          "output_type": "stream",
          "name": "stdout",
          "text": [
            "enter a number8\n",
            "the number is even\n"
          ]
        }
      ],
      "source": [
        "Numbers=int(input(\"enter a number\"))\n",
        "if Numbers%2==0:\n",
        " print(\"the number is even\")\n",
        "else:\n",
        "  print(\"the number is odd\")\n"
      ]
    }
  ]
}