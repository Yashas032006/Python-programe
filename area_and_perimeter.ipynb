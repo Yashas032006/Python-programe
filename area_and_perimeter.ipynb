{
  "nbformat": 4,
  "nbformat_minor": 0,
  "metadata": {
    "colab": {
      "provenance": []
    },
    "kernelspec": {
      "name": "python3",
      "display_name": "Python 3"
    },
    "language_info": {
      "name": "python"
    }
  },
  "cells": [
    {
      "cell_type": "code",
      "source": [
        "length=int(input(\"enter the length\"))\n",
        "breadth=int(input(\"enter the breadth\"))\n",
        "area=length*breadth\n",
        "perimeter=2*(length+breadth)\n",
        "print(\"area of rectangle\",area)\n",
        "print(\"perimeter of rectangle\")"
      ],
      "metadata": {
        "colab": {
          "base_uri": "https://localhost:8080/"
        },
        "id": "_iy1m3WOlSvY",
        "outputId": "6c2489c7-14ca-416b-b28e-32ba81b825c0"
      },
      "execution_count": 20,
      "outputs": [
        {
          "output_type": "stream",
          "name": "stdout",
          "text": [
            "enter the length6\n",
            "enter the breadth8\n",
            "area of rectangle 48\n",
            "perimeter of rectangle\n"
          ]
        }
      ]
    }
  ]
}