{
  "nbformat": 4,
  "nbformat_minor": 0,
  "metadata": {
    "colab": {
      "provenance": []
    },
    "kernelspec": {
      "name": "python3",
      "display_name": "Python 3"
    },
    "language_info": {
      "name": "python"
    }
  },
  "cells": [
    {
      "cell_type": "code",
      "source": [
        "def greet(**kwargs):\n",
        "    for key, value in kwargs.items():\n",
        "        print(f\"{key}: {value}\")\n",
        "\n",
        "greet(name=\"Alice\", age=30, job=\"Engineer\")  # Passing keyword arguments\n"
      ],
      "metadata": {
        "id": "jpoUZ0wIn-hz"
      },
      "execution_count": null,
      "outputs": []
    }
  ]
}