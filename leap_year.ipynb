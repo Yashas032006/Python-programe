{
  "nbformat": 4,
  "nbformat_minor": 0,
  "metadata": {
    "colab": {
      "provenance": []
    },
    "kernelspec": {
      "name": "python3",
      "display_name": "Python 3"
    },
    "language_info": {
      "name": "python"
    }
  },
  "cells": [
    {
      "cell_type": "code",
      "source": [
        "year=int(input(\"enter year\"))\n",
        "year=int(input(\"enyer year\"))\n",
        "if(year%4==0 and year%100!=0 or year%400==0):\n",
        "  print(\"leap year\")\n",
        "else:\n",
        "    print(\"not a leap year\")"
      ],
      "metadata": {
        "colab": {
          "base_uri": "https://localhost:8080/"
        },
        "id": "J_uaghFr2I1l",
        "outputId": "353934a2-cd01-4d04-eb94-fdc6a636258d"
      },
      "execution_count": 31,
      "outputs": [
        {
          "output_type": "stream",
          "name": "stdout",
          "text": [
            "enter year2024\n",
            "enyer year2025\n",
            "not a leap year\n"
          ]
        }
      ]
    }
  ]
}