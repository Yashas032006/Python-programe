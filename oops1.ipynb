{
  "nbformat": 4,
  "nbformat_minor": 0,
  "metadata": {
    "colab": {
      "provenance": []
    },
    "kernelspec": {
      "name": "python3",
      "display_name": "Python 3"
    },
    "language_info": {
      "name": "python"
    }
  },
  "cells": [
    {
      "cell_type": "code",
      "source": [
        "class circle:\n",
        "  def area(self):\n",
        "    return 3.14*float(self.radius)**2\n",
        "circle=circle()\n",
        "circle.radius=8\n",
        "circle.area()"
      ],
      "metadata": {
        "colab": {
          "base_uri": "https://localhost:8080/"
        },
        "id": "JrdDgBDi9jOq",
        "outputId": "1e4fde24-1729-44c8-eb1f-4340dc7e33ff"
      },
      "execution_count": 7,
      "outputs": [
        {
          "output_type": "execute_result",
          "data": {
            "text/plain": [
              "200.96"
            ]
          },
          "metadata": {},
          "execution_count": 7
        }
      ]
    }
  ]
}