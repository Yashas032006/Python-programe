{
  "nbformat": 4,
  "nbformat_minor": 0,
  "metadata": {
    "colab": {
      "provenance": []
    },
    "kernelspec": {
      "name": "python3",
      "display_name": "Python 3"
    },
    "language_info": {
      "name": "python"
    }
  },
  "cells": [
    {
      "cell_type": "code",
      "source": [
        "a=int(input(\"enter the start range\"))\n",
        "b=int(input (\"enter the end range\"))\n",
        "sum=0\n",
        "for i in range(a,b+1):\n",
        "  sum=sum+i\n",
        "  print(sum)"
      ],
      "metadata": {
        "colab": {
          "base_uri": "https://localhost:8080/"
        },
        "id": "Em0TU9E4lD8L",
        "outputId": "1ed0d34b-3913-4c68-eec2-3abc50df01c9"
      },
      "execution_count": 8,
      "outputs": [
        {
          "output_type": "stream",
          "name": "stdout",
          "text": [
            "enter the start range2\n",
            "enter the end range5\n",
            "2\n",
            "5\n",
            "9\n",
            "14\n"
          ]
        }
      ]
    }
  ]
}