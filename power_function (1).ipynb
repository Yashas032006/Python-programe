{
  "nbformat": 4,
  "nbformat_minor": 0,
  "metadata": {
    "colab": {
      "provenance": []
    },
    "kernelspec": {
      "name": "python3",
      "display_name": "Python 3"
    },
    "language_info": {
      "name": "python"
    }
  },
  "cells": [
    {
      "cell_type": "code",
      "source": [
        "def power(base, exponent):\n",
        "\n",
        "    if exponent == 0:\n",
        "        return 1\n",
        "\n",
        "    return base * power(base, exponent - 1)\n",
        "\n",
        "\n",
        "print(power(2, 3))\n"
      ],
      "metadata": {
        "colab": {
          "base_uri": "https://localhost:8080/"
        },
        "id": "PAGS8W7QLqLA",
        "outputId": "8079592a-99c7-40fb-c4bd-90f02db95c17"
      },
      "execution_count": 18,
      "outputs": [
        {
          "output_type": "stream",
          "name": "stdout",
          "text": [
            "8\n"
          ]
        }
      ]
    }
  ]
}