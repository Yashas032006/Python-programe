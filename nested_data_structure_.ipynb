{
  "nbformat": 4,
  "nbformat_minor": 0,
  "metadata": {
    "colab": {
      "provenance": []
    },
    "kernelspec": {
      "name": "python3",
      "display_name": "Python 3"
    },
    "language_info": {
      "name": "python"
    }
  },
  "cells": [
    {
      "cell_type": "code",
      "source": [
        "\n",
        "student_marks = {}\n",
        "num_students = int(input(\"Enter the number of students: \"))\n",
        "\n",
        "for _ in range(num_students):\n",
        "    name = input(\"Enter student name: \")\n",
        "    marks = []\n",
        "\n",
        "    for i in range(1, 4):\n",
        "        mark = float(input(f\"Enter marks for subject {i}: \"))\n",
        "        marks.append(mark)\n",
        "print(student_marks)"
      ],
      "metadata": {
        "colab": {
          "base_uri": "https://localhost:8080/"
        },
        "id": "G4-yWRI6XYSK",
        "outputId": "4411a37a-ac48-4d2e-b9e6-af0189660159"
      },
      "execution_count": null,
      "outputs": [
        {
          "name": "stdout",
          "output_type": "stream",
          "text": [
            "Enter the number of students: 4\n",
            "Enter student name: vikas\n",
            "Enter marks for subject 1: 70\n",
            "Enter marks for subject 2: 60\n",
            "Enter marks for subject 3: 50\n"
          ]
        }
      ]
    }
  ]
}