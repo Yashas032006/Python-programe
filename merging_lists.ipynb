{
  "nbformat": 4,
  "nbformat_minor": 0,
  "metadata": {
    "colab": {
      "provenance": []
    },
    "kernelspec": {
      "name": "python3",
      "display_name": "Python 3"
    },
    "language_info": {
      "name": "python"
    }
  },
  "cells": [
    {
      "cell_type": "code",
      "source": [
        "def merge_lists_remove_duplicates(list1, list2):\n",
        "\n",
        "    merged_list = list(dict.fromkeys(list1 + list2))\n",
        "    return merged_list\n",
        "\n",
        "\n",
        "list1 = [1, 2, 3, 4, 5]\n",
        "list2 = [3, 4, 5, 6, 7]\n",
        "\n",
        "result = merge_lists_remove_duplicates(list1, list2)\n",
        "print(\"Merged list without duplicates:\", result)\n"
      ],
      "metadata": {
        "colab": {
          "base_uri": "https://localhost:8080/"
        },
        "id": "U1mFuKXwR0bH",
        "outputId": "63c826d2-202c-45ea-9431-f7e3817d871a"
      },
      "execution_count": 23,
      "outputs": [
        {
          "output_type": "stream",
          "name": "stdout",
          "text": [
            "Merged list without duplicates: [1, 2, 3, 4, 5, 6, 7]\n"
          ]
        }
      ]
    }
  ]
}