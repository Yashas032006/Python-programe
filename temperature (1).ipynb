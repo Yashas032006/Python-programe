{
  "nbformat": 4,
  "nbformat_minor": 0,
  "metadata": {
    "colab": {
      "provenance": []
    },
    "kernelspec": {
      "name": "python3",
      "display_name": "Python 3"
    },
    "language_info": {
      "name": "python"
    }
  },
  "cells": [
    {
      "cell_type": "code",
      "source": [
        "height=int(input(\"enter the height \"))\n",
        "weight=int(input(\"enter the weight\"))\n",
        "bmi=weight/height*height\n",
        "print(\"the bmi is \",bmi)\n"
      ],
      "metadata": {
        "colab": {
          "base_uri": "https://localhost:8080/"
        },
        "id": "ENvYIDw3efqC",
        "outputId": "848625c6-5851-4aaf-bf4f-4ff108d4e6c4"
      },
      "execution_count": 17,
      "outputs": [
        {
          "output_type": "stream",
          "name": "stdout",
          "text": [
            "enter the height 68\n",
            "enter the weight70\n",
            "the bmi is  70.0\n"
          ]
        }
      ]
    }
  ]
}