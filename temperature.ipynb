{
  "nbformat": 4,
  "nbformat_minor": 0,
  "metadata": {
    "colab": {
      "provenance": []
    },
    "kernelspec": {
      "name": "python3",
      "display_name": "Python 3"
    },
    "language_info": {
      "name": "python"
    }
  },
  "cells": [
    {
      "cell_type": "code",
      "source": [
        "faren =float(input(\"enter temp in faren\"))\n",
        "celsius=5/9*(faren-32)\n",
        "print(celsius)"
      ],
      "metadata": {
        "colab": {
          "base_uri": "https://localhost:8080/"
        },
        "id": "h6DAjKj3dH7h",
        "outputId": "320376e0-0acd-43e4-f20c-44cf42a84ad4"
      },
      "execution_count": 15,
      "outputs": [
        {
          "output_type": "stream",
          "name": "stdout",
          "text": [
            "enter temp in faren76\n",
            "24.444444444444446\n"
          ]
        }
      ]
    }
  ]
}