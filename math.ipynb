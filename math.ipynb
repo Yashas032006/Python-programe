{
  "nbformat": 4,
  "nbformat_minor": 0,
  "metadata": {
    "colab": {
      "provenance": []
    },
    "kernelspec": {
      "name": "python3",
      "display_name": "Python 3"
    },
    "language_info": {
      "name": "python"
    }
  },
  "cells": [
    {
      "cell_type": "code",
      "source": [
        "import math\n",
        "angle=float(input(\"enter an angle in degreea:\"))\n",
        "radian=math.radians(angle)\n",
        "print(\"sine of angle:\",math.sin(radian))\n",
        "print(\"cosine of angle:\",math.cos(radian))"
      ],
      "metadata": {
        "colab": {
          "base_uri": "https://localhost:8080/",
          "height": 0
        },
        "id": "Jr1G6j70ptHk",
        "outputId": "87975b42-f1a4-46ba-8e7c-b421f48d5942"
      },
      "execution_count": 23,
      "outputs": [
        {
          "output_type": "stream",
          "name": "stdout",
          "text": [
            "enter an angle in degreea:120\n",
            "sine of angle: 0.8660254037844387\n",
            "cosine of angle: -0.4999999999999998\n"
          ]
        }
      ]
    }
  ]
}