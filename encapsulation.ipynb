{
  "nbformat": 4,
  "nbformat_minor": 0,
  "metadata": {
    "colab": {
      "provenance": []
    },
    "kernelspec": {
      "name": "python3",
      "display_name": "Python 3"
    },
    "language_info": {
      "name": "python"
    }
  },
  "cells": [
    {
      "cell_type": "code",
      "source": [
        "class rohit:\n",
        "  def __init__(self):\n",
        "    self.pub = \"ok\"\n",
        "    self.__rajesh=\"not ok\"\n",
        "  def virat_private(self):\n",
        "      print(self.__rajesh)\n",
        "rohit=rohit()\n",
        "print(rohit.pub)\n",
        "rohit.virat_private()"
      ],
      "metadata": {
        "colab": {
          "base_uri": "https://localhost:8080/"
        },
        "id": "i0gtxesY_C5Y",
        "outputId": "e6fb4f91-8d1f-4026-ea22-09dc3e46baee"
      },
      "execution_count": 14,
      "outputs": [
        {
          "output_type": "stream",
          "name": "stdout",
          "text": [
            "ok\n",
            "not ok\n"
          ]
        }
      ]
    }
  ]
}