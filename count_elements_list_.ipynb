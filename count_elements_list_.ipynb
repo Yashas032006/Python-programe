{
  "nbformat": 4,
  "nbformat_minor": 0,
  "metadata": {
    "colab": {
      "provenance": []
    },
    "kernelspec": {
      "name": "python3",
      "display_name": "Python 3"
    },
    "language_info": {
      "name": "python"
    }
  },
  "cells": [
    {
      "cell_type": "code",
      "execution_count": 22,
      "metadata": {
        "id": "qPXdDBKSOaif"
      },
      "outputs": [],
      "source": [
        "def count_occurrences(first, element):\n",
        "  return first.count(element)\n",
        "  numbers = [1,2,3,4,2,2,5,6,2]\n",
        "  element_to_count = 2\n",
        "  count = count_occurrences(numbers, element_to_count)\n",
        "  print(f\"the element {element_to_count} appears {count} times in the list.\")"
      ]
    }
  ]
}