{
  "nbformat": 4,
  "nbformat_minor": 0,
  "metadata": {
    "colab": {
      "provenance": []
    },
    "kernelspec": {
      "name": "python3",
      "display_name": "Python 3"
    },
    "language_info": {
      "name": "python"
    }
  },
  "cells": [
    {
      "cell_type": "code",
      "source": [
        "def find_largest_smallest(numbers):\n",
        "    if not numbers:\n",
        "        return None, None\n",
        "\n",
        "    smallest = min(numbers)\n",
        "    largest = max(numbers)\n",
        "\n",
        "    return smallest, largest\n",
        "nums = [3, 1, 7, 9, -2, 10, 0]\n",
        "smallest, largest = find_largest_smallest(nums)\n",
        "print(f\"Smallest: {smallest}, Largest: {largest}\")\n"
      ],
      "metadata": {
        "colab": {
          "base_uri": "https://localhost:8080/"
        },
        "id": "cWhSy5dmK5gG",
        "outputId": "3b77ef08-8d31-4a06-e867-c2ee31f5a00c"
      },
      "execution_count": 4,
      "outputs": [
        {
          "output_type": "stream",
          "name": "stdout",
          "text": [
            "Smallest: -2, Largest: 10\n"
          ]
        }
      ]
    }
  ]
}