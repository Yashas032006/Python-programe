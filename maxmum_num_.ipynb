{
  "nbformat": 4,
  "nbformat_minor": 0,
  "metadata": {
    "colab": {
      "provenance": []
    },
    "kernelspec": {
      "name": "python3",
      "display_name": "Python 3"
    },
    "language_info": {
      "name": "python"
    }
  },
  "cells": [
    {
      "cell_type": "code",
      "source": [
        "num1=float(input(\"enter the first number:\"))\n",
        "num2=float(input(\"enter the second number:\"))\n",
        "num3=float(input(\"enter the third number:\"))\n",
        "if (num1>=num2) and (num1>=num3):\n",
        "    largest=num1\n",
        "elif (num2>=num1) and (num2>=num3):\n",
        "    largest=num2\n",
        "else:\n",
        "    largest=num3\n",
        "print(\"the largest number is\",largest)"
      ],
      "metadata": {
        "colab": {
          "base_uri": "https://localhost:8080/"
        },
        "id": "QUISNYhHtshc",
        "outputId": "347b26a2-1524-4477-96c2-9cccd7981808"
      },
      "execution_count": 51,
      "outputs": [
        {
          "output_type": "stream",
          "name": "stdout",
          "text": [
            "enter the first number:34\n",
            "enter the second number:45\n",
            "enter the third number:60\n",
            "the largest number is 60.0\n"
          ]
        }
      ]
    }
  ]
}