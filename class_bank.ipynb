{
  "nbformat": 4,
  "nbformat_minor": 0,
  "metadata": {
    "colab": {
      "provenance": []
    },
    "kernelspec": {
      "name": "python3",
      "display_name": "Python 3"
    },
    "language_info": {
      "name": "python"
    }
  },
  "cells": [
    {
      "cell_type": "code",
      "source": [
        "class bank:\n",
        "  def __init__(self,balance=0):\n",
        "      self.balance = balance\n",
        "  def deposit(self,amount):\n",
        "      self.balance+=amount\n",
        "      print(f\"total balance{self.balance}\")\n",
        "  def withdraw(self,amount):\n",
        "      if self.balance>= amount:\n",
        "        self.balance-=amount\n",
        "        print(f\"reamaining balance{self.balance}\")\n",
        "      else:\n",
        "        print(\"insufficient balance\")\n",
        "obj=bank()\n",
        "obj.deposit(10000)\n",
        "obj.withdraw(5000)"
      ],
      "metadata": {
        "colab": {
          "base_uri": "https://localhost:8080/"
        },
        "id": "ojuWdhFfbjy0",
        "outputId": "84b6fe7c-b4ef-486e-9132-0de620a5c868"
      },
      "execution_count": 55,
      "outputs": [
        {
          "output_type": "stream",
          "name": "stdout",
          "text": [
            "total balance10000\n",
            "reamaining balance5000\n"
          ]
        }
      ]
    }
  ]
}