{
  "nbformat": 4,
  "nbformat_minor": 0,
  "metadata": {
    "colab": {
      "provenance": []
    },
    "kernelspec": {
      "name": "python3",
      "display_name": "Python 3"
    },
    "language_info": {
      "name": "python"
    }
  },
  "cells": [
    {
      "cell_type": "code",
      "source": [
        "\n",
        "class Car:\n",
        "    def __init__(self, make, model, year, color, price):\n",
        "        self.make = make\n",
        "        self.model = model\n",
        "        self.year = year\n",
        "        self.color = color\n",
        "        self.price = price\n",
        "\n",
        "\n",
        "    def display_details(self):\n",
        "        print(f\"Car Details: {self.year} {self.make} {self.model}\")\n",
        "        print(f\"Color: {self.color}\")\n",
        "        print(f\"Price: ${self.price}\")\n",
        "        print(\"-\" * 3)\n",
        "car1 = Car(\"Toyota\", \"Corolla\", 2020, \"Red\", 20000)\n",
        "car2 = Car(\"Honda\", \"Civic\", 2022, \"Blue\", 22000)\n",
        "car3 = Car(\"Ford\", \"Mustang\", 2021, \"Black\", 30000)\n",
        "car4 = Car(\"Chevrolet\", \"Malibu\", 2019, \"White\", 18000)\n",
        "\n",
        "\n",
        "car1.display_details()\n",
        "car2.display_details()\n",
        "car3.display_details()\n",
        "car4.display_details()\n"
      ],
      "metadata": {
        "colab": {
          "base_uri": "https://localhost:8080/"
        },
        "id": "dI9C5_mRDJrz",
        "outputId": "3156f363-e2c3-4685-fb65-dae22187e923"
      },
      "execution_count": 66,
      "outputs": [
        {
          "output_type": "stream",
          "name": "stdout",
          "text": [
            "Car Details: 2020 Toyota Corolla\n",
            "Color: Red\n",
            "Price: $20000\n",
            "---\n",
            "Car Details: 2022 Honda Civic\n",
            "Color: Blue\n",
            "Price: $22000\n",
            "---\n",
            "Car Details: 2021 Ford Mustang\n",
            "Color: Black\n",
            "Price: $30000\n",
            "---\n",
            "Car Details: 2019 Chevrolet Malibu\n",
            "Color: White\n",
            "Price: $18000\n",
            "---\n"
          ]
        }
      ]
    }
  ]
}