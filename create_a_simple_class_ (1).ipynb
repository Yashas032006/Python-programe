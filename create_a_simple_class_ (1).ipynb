{
  "nbformat": 4,
  "nbformat_minor": 0,
  "metadata": {
    "colab": {
      "provenance": []
    },
    "kernelspec": {
      "name": "python3",
      "display_name": "Python 3"
    },
    "language_info": {
      "name": "python"
    }
  },
  "cells": [
    {
      "cell_type": "code",
      "source": [
        "class Car:\n",
        "    def set_details(self, make, model, year):\n",
        "        self.make = make\n",
        "        self.model = model\n",
        "        self.year = year\n",
        "\n",
        "    def display_details(self):\n",
        "        print(f\"Car Details: {self.year} {self.make} {self.model}\")\n"
      ],
      "metadata": {
        "id": "H9Bkw9MwCoBv"
      },
      "execution_count": 65,
      "outputs": []
    }
  ]
}