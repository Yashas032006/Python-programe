{
  "nbformat": 4,
  "nbformat_minor": 0,
  "metadata": {
    "colab": {
      "provenance": []
    },
    "kernelspec": {
      "name": "python3",
      "display_name": "Python 3"
    },
    "language_info": {
      "name": "python"
    }
  },
  "cells": [
    {
      "cell_type": "code",
      "execution_count": 2,
      "metadata": {
        "colab": {
          "base_uri": "https://localhost:8080/"
        },
        "id": "ZuLvVipqHfil",
        "outputId": "7ed8c9ee-7eea-4636-d0f8-c09c6d9652ff"
      },
      "outputs": [
        {
          "output_type": "stream",
          "name": "stdout",
          "text": [
            "sum of elements: 15\n"
          ]
        }
      ],
      "source": [
        "def sum_of_elements(my_list):\n",
        "  return sum(my_list)\n",
        "numbers=[1,2,3,4,5]\n",
        "result=sum_of_elements(numbers)\n",
        "print(\"sum of elements:\",result)"
      ]
    }
  ]
}