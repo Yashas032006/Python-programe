{
  "nbformat": 4,
  "nbformat_minor": 0,
  "metadata": {
    "colab": {
      "provenance": []
    },
    "kernelspec": {
      "name": "python3",
      "display_name": "Python 3"
    },
    "language_info": {
      "name": "python"
    }
  },
  "cells": [
    {
      "cell_type": "code",
      "source": [
        "def check_element_in_set(element, my_set):\n",
        "    if element in my_set:\n",
        "        return f\"{element} exists in the set.\"\n",
        "    else:\n",
        "        return f\"{element} does not exist in the set.\"\n",
        "my_set = {1, 2, 3, 4, 5}\n",
        "element = int(input(\"Enter an element to check: \"))\n",
        "result = check_element_in_set(element, my_set)\n",
        "print(result)\n"
      ],
      "metadata": {
        "colab": {
          "base_uri": "https://localhost:8080/"
        },
        "id": "_TgvXNrPVutL",
        "outputId": "69923193-07f3-4565-e397-0e0a918cdc80"
      },
      "execution_count": 26,
      "outputs": [
        {
          "output_type": "stream",
          "name": "stdout",
          "text": [
            "Enter an element to check: 2\n",
            "2 exists in the set.\n"
          ]
        }
      ]
    }
  ]
}