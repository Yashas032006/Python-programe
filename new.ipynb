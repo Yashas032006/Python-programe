{
  "nbformat": 4,
  "nbformat_minor": 0,
  "metadata": {
    "colab": {
      "provenance": []
    },
    "kernelspec": {
      "name": "python3",
      "display_name": "Python 3"
    },
    "language_info": {
      "name": "python"
    }
  },
  "cells": [
    {
      "cell_type": "code",
      "source": [
        "class shape:\n",
        "  def area(self):\n",
        "    pass\n",
        "class rectangle(shape):\n",
        "    def __init__(self,length,breadth):\n",
        "      self.length=length\n",
        "      self.breadth=breadth\n",
        "    def area(self):\n",
        "      return self.length*self.breadth\n",
        "class circle(shape):\n",
        "    def __init__(self,radius):\n",
        "      self.radius=radius\n",
        "    def area(self):\n",
        "      return 3.14*self.radius*self.radius\n",
        "shapes = [rectangle(4,5), circle(3)]\n",
        "for shape in shapes:\n",
        "  print(shape.area())"
      ],
      "metadata": {
        "colab": {
          "base_uri": "https://localhost:8080/"
        },
        "id": "czZ8Ow-m41D0",
        "outputId": "278f5180-2306-4763-d0a7-30fa01923a36"
      },
      "execution_count": 62,
      "outputs": [
        {
          "output_type": "stream",
          "name": "stdout",
          "text": [
            "20\n",
            "28.259999999999998\n"
          ]
        }
      ]
    }
  ]
}