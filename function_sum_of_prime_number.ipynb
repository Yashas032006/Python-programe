{
  "nbformat": 4,
  "nbformat_minor": 0,
  "metadata": {
    "colab": {
      "provenance": []
    },
    "kernelspec": {
      "name": "python3",
      "display_name": "Python 3"
    },
    "language_info": {
      "name": "python"
    }
  },
  "cells": [
    {
      "cell_type": "code",
      "source": [
        "def prime(n):\n",
        "  if n <= 2:\n",
        "    return False\n",
        "  for i in  range(2,int(n**0.5)+1):\n",
        "    if n % i ==0:\n",
        "      return False\n",
        "  return True\n",
        "print(prime(7))\n",
        "print(prime(10))\n",
        "\n",
        "\n"
      ],
      "metadata": {
        "colab": {
          "base_uri": "https://localhost:8080/"
        },
        "id": "XxHk8ykTDuG3",
        "outputId": "edc8d26f-77ac-4b5f-8fe5-baf9f140b136"
      },
      "execution_count": 12,
      "outputs": [
        {
          "output_type": "stream",
          "name": "stdout",
          "text": [
            "True\n",
            "False\n"
          ]
        }
      ]
    }
  ]
}